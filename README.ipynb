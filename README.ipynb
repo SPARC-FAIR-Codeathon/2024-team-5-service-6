{
 "cells": [
  {
   "attachments": {},
   "cell_type": "markdown",
   "id": "67bb6fe5-38a1-472e-bf7c-9a300da42cb7",
   "metadata": {},
   "source": [
    "# Before starting\n",
    "\n",
    "#### Directories and usage:\n",
    "* **You are here:** `~/work/workspace` this is the current directory when the JupyterLab is opened and where you should save your files. \n",
    "\n",
    "* **Inputs from upstream services:** `~/work/inputs` (equivalent to `/home/jovyan/work/inputs`) contains inputs incoming from the outputs of the previous node. *Warning: do not write files in this directory or they will be erased.* *Jovyan* is the username in this Jupyterlab (and it is the same for all o²S²PARC users)\n",
    "\n",
    "* **This service's Outputs:** the contents of `~/work/outputs/outputs_1`, `~/work/outputs/outputs_2`, `~/work/outputs/outputs_3` and `~/work/outputs/outputs_4` will be accessible to connected downstream nodes. *Warning: do not add files into `~/work/outputs` base directory or they will be erased.*\n",
    "\n",
    "#### Good Practices\n",
    "* **Return to Dashboard often:** data are versioned ONLY when you have saved the file in JupyterLab AND after you return to the Dashboard from your study. We advise you to go back to the Dashboard often to avoid losing work.*\n",
    "* **I don't see `inputs` or `outputs`:** `~/work/` (one folder up from the current directory) is where you can find the `inputs` and `outputs` directories. Write access to this folder has been disabled. You can only create files and directories in:\n",
    "  * `~/work/workspace`\n",
    "  * `~/work/outputs/outputs_1`\n",
    "  * `~/work/outputs/outputs_2`\n",
    "  * `~/work/outputs/outputs_3`\n",
    "  * `~/work/outputs/outputs_4`\n",
    "* **Do  not write files directly to outputs:** if your code generates files, we recommend writing them first to a temporary directory (e.g. in `~/work/workspace`) and then moving them to the desired `~/work/outputs/output_X` directory after completion. Otherwise, data synchronisation may start while the file is being written to, which may result in a corrupted file in output."
   ]
  },
  {
   "attachments": {},
   "cell_type": "markdown",
   "id": "fdc3059f",
   "metadata": {},
   "source": []
  }
 ],
 "metadata": {
  "kernelspec": {
   "display_name": "python (maths)",
   "language": "python",
   "name": "python-maths"
  },
  "language_info": {
   "codemirror_mode": {
    "name": "ipython",
    "version": 3
   },
   "file_extension": ".py",
   "mimetype": "text/x-python",
   "name": "python",
   "nbconvert_exporter": "python",
   "pygments_lexer": "ipython3",
   "version": "3.9.10"
  }
 },
 "nbformat": 4,
 "nbformat_minor": 5
}
